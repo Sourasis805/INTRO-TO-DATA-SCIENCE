{
  "metadata": {
    "language_info": {
      "codemirror_mode": {
        "name": "python",
        "version": 3
      },
      "file_extension": ".py",
      "mimetype": "text/x-python",
      "name": "python",
      "nbconvert_exporter": "python",
      "pygments_lexer": "ipython3",
      "version": "3.8"
    },
    "kernelspec": {
      "name": "python",
      "display_name": "Python (Pyodide)",
      "language": "python"
    }
  },
  "nbformat_minor": 4,
  "nbformat": 4,
  "cells": [
    {
      "cell_type": "raw",
      "source": "In this Jupyterlite Notebook, we will explore the world of data science and the essential tools, languages, and libraries used in this field.\n",
      "metadata": {}
    },
    {
      "cell_type": "raw",
      "source": "## Data Science Languages\n- Python\n- R\n- SQL\n- Julia\n",
      "metadata": {}
    },
    {
      "cell_type": "raw",
      "source": "## Data Science Libraries\n- Pandas\n- NumPy\n- Scikit-learn\n- Matplotlib\n- Seaborn\n- TensorFlow\n- PyTorch\n- Keras\n",
      "metadata": {}
    },
    {
      "cell_type": "raw",
      "source": "## Data Science Tools\n\n| Tool               | Description                                            |\n|--------------------|--------------------------------------------------------|\n| Jupyter Notebook   | Interactive development environment for data analysis |\n| RStudio            | Integrated development environment for R programming  |\n| VSCode             | Popular code editor with data science extensions     |\n| Git and GitHub     | Version control and collaboration for code            |\n| Google Colab       | Cloud-based Jupyter notebooks with GPU support       |\n",
      "metadata": {}
    },
    {
      "cell_type": "raw",
      "source": "## Arithmetic Expressions\n\nWe will now explore some basic arithmetic expressions using Python.\n",
      "metadata": {}
    },
    {
      "cell_type": "code",
      "source": "# Multiply and Add Numbers\nnum1 = 5\nnum2 = 7\nresult1 = num1 * num2\nresult2 = num1 + num2\nresult1, result2\n",
      "metadata": {
        "trusted": true
      },
      "execution_count": 1,
      "outputs": [
        {
          "execution_count": 1,
          "output_type": "execute_result",
          "data": {
            "text/plain": "(35, 12)"
          },
          "metadata": {}
        }
      ]
    },
    {
      "cell_type": "code",
      "source": "# Convert Minutes to Hours\nminutes = 120\nhours = minutes / 60\nhours\n",
      "metadata": {
        "trusted": true
      },
      "execution_count": 2,
      "outputs": [
        {
          "execution_count": 2,
          "output_type": "execute_result",
          "data": {
            "text/plain": "2.0"
          },
          "metadata": {}
        }
      ]
    },
    {
      "cell_type": "raw",
      "source": "## Objectives\n\n- Understand the key languages used in data science.\n- Familiarize yourself with essential data science libraries.\n- Explore common data science tools.\n- Practice basic arithmetic expressions in Python.\n",
      "metadata": {}
    },
    {
      "cell_type": "raw",
      "source": "## Author\n- Sourasis Ghosh\n",
      "metadata": {}
    }
  ]
}